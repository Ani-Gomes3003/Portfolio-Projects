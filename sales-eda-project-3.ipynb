{
 "cells": [
  {
   "cell_type": "markdown",
   "id": "00ed7c9c",
   "metadata": {
    "papermill": {
     "duration": 0.008184,
     "end_time": "2023-10-16T08:10:24.092830",
     "exception": false,
     "start_time": "2023-10-16T08:10:24.084646",
     "status": "completed"
    },
    "tags": []
   },
   "source": [
    "# Importing Libraries"
   ]
  },
  {
   "cell_type": "code",
   "execution_count": 1,
   "id": "9a2e1e1d",
   "metadata": {
    "execution": {
     "iopub.execute_input": "2023-10-16T08:10:24.109700Z",
     "iopub.status.busy": "2023-10-16T08:10:24.109279Z",
     "iopub.status.idle": "2023-10-16T08:10:26.025405Z",
     "shell.execute_reply": "2023-10-16T08:10:26.024491Z"
    },
    "papermill": {
     "duration": 1.927653,
     "end_time": "2023-10-16T08:10:26.028050",
     "exception": false,
     "start_time": "2023-10-16T08:10:24.100397",
     "status": "completed"
    },
    "tags": []
   },
   "outputs": [],
   "source": [
    "import pandas as pd     #perform a wide variety of mathematical operations on arrays\n",
    "import numpy as np     #analyzing, cleaning, exploring, and manipulating data.\n",
    "import seaborn as sns   #provides statistical graphics for statistical data analysis\n",
    "import matplotlib.pyplot as plt  #for creating static, animated, and interactive visualizations in Python. "
   ]
  },
  {
   "cell_type": "markdown",
   "id": "abdea445",
   "metadata": {
    "papermill": {
     "duration": 0.007685,
     "end_time": "2023-10-16T08:10:26.043749",
     "exception": false,
     "start_time": "2023-10-16T08:10:26.036064",
     "status": "completed"
    },
    "tags": []
   },
   "source": [
    "# Loading Data"
   ]
  },
  {
   "cell_type": "code",
   "execution_count": 2,
   "id": "3193ad2b",
   "metadata": {
    "execution": {
     "iopub.execute_input": "2023-10-16T08:10:26.061193Z",
     "iopub.status.busy": "2023-10-16T08:10:26.060670Z",
     "iopub.status.idle": "2023-10-16T08:10:26.732231Z",
     "shell.execute_reply": "2023-10-16T08:10:26.730976Z"
    },
    "papermill": {
     "duration": 0.683037,
     "end_time": "2023-10-16T08:10:26.734373",
     "exception": false,
     "start_time": "2023-10-16T08:10:26.051336",
     "status": "completed"
    },
    "tags": []
   },
   "outputs": [
    {
     "data": {
      "text/html": [
       "<div>\n",
       "<style scoped>\n",
       "    .dataframe tbody tr th:only-of-type {\n",
       "        vertical-align: middle;\n",
       "    }\n",
       "\n",
       "    .dataframe tbody tr th {\n",
       "        vertical-align: top;\n",
       "    }\n",
       "\n",
       "    .dataframe thead th {\n",
       "        text-align: right;\n",
       "    }\n",
       "</style>\n",
       "<table border=\"1\" class=\"dataframe\">\n",
       "  <thead>\n",
       "    <tr style=\"text-align: right;\">\n",
       "      <th></th>\n",
       "      <th>Order ID</th>\n",
       "      <th>Product</th>\n",
       "      <th>Quantity Ordered</th>\n",
       "      <th>Price Each</th>\n",
       "      <th>Order Date</th>\n",
       "      <th>Purchase Address</th>\n",
       "    </tr>\n",
       "  </thead>\n",
       "  <tbody>\n",
       "    <tr>\n",
       "      <th>0</th>\n",
       "      <td>295665</td>\n",
       "      <td>Macbook Pro Laptop</td>\n",
       "      <td>1</td>\n",
       "      <td>1700</td>\n",
       "      <td>12/30/19 00:01</td>\n",
       "      <td>136 Church St, New York City, NY 10001</td>\n",
       "    </tr>\n",
       "    <tr>\n",
       "      <th>1</th>\n",
       "      <td>295666</td>\n",
       "      <td>LG Washing Machine</td>\n",
       "      <td>1</td>\n",
       "      <td>600.0</td>\n",
       "      <td>12/29/19 07:03</td>\n",
       "      <td>562 2nd St, New York City, NY 10001</td>\n",
       "    </tr>\n",
       "    <tr>\n",
       "      <th>2</th>\n",
       "      <td>295667</td>\n",
       "      <td>USB-C Charging Cable</td>\n",
       "      <td>1</td>\n",
       "      <td>11.95</td>\n",
       "      <td>12/12/19 18:21</td>\n",
       "      <td>277 Main St, New York City, NY 10001</td>\n",
       "    </tr>\n",
       "    <tr>\n",
       "      <th>3</th>\n",
       "      <td>295668</td>\n",
       "      <td>27in FHD Monitor</td>\n",
       "      <td>1</td>\n",
       "      <td>149.99</td>\n",
       "      <td>12/22/19 15:13</td>\n",
       "      <td>410 6th St, San Francisco, CA 94016</td>\n",
       "    </tr>\n",
       "    <tr>\n",
       "      <th>4</th>\n",
       "      <td>295669</td>\n",
       "      <td>USB-C Charging Cable</td>\n",
       "      <td>1</td>\n",
       "      <td>11.95</td>\n",
       "      <td>12/18/19 12:38</td>\n",
       "      <td>43 Hill St, Atlanta, GA 30301</td>\n",
       "    </tr>\n",
       "  </tbody>\n",
       "</table>\n",
       "</div>"
      ],
      "text/plain": [
       "  Order ID               Product Quantity Ordered Price Each      Order Date  \\\n",
       "0   295665    Macbook Pro Laptop                1       1700  12/30/19 00:01   \n",
       "1   295666    LG Washing Machine                1      600.0  12/29/19 07:03   \n",
       "2   295667  USB-C Charging Cable                1      11.95  12/12/19 18:21   \n",
       "3   295668      27in FHD Monitor                1     149.99  12/22/19 15:13   \n",
       "4   295669  USB-C Charging Cable                1      11.95  12/18/19 12:38   \n",
       "\n",
       "                         Purchase Address  \n",
       "0  136 Church St, New York City, NY 10001  \n",
       "1     562 2nd St, New York City, NY 10001  \n",
       "2    277 Main St, New York City, NY 10001  \n",
       "3     410 6th St, San Francisco, CA 94016  \n",
       "4           43 Hill St, Atlanta, GA 30301  "
      ]
     },
     "execution_count": 2,
     "metadata": {},
     "output_type": "execute_result"
    }
   ],
   "source": [
    "df = pd.read_csv(\"/kaggle/input/sales-data/all_data.csv\")\n",
    "df.sort_index(inplace = True)   #sorting data in ascending order\n",
    "df.head()   #to display the first 5 rows of the dataset"
   ]
  },
  {
   "cell_type": "markdown",
   "id": "10f205e3",
   "metadata": {
    "papermill": {
     "duration": 0.007709,
     "end_time": "2023-10-16T08:10:26.749918",
     "exception": false,
     "start_time": "2023-10-16T08:10:26.742209",
     "status": "completed"
    },
    "tags": []
   },
   "source": [
    "# Data cleaning"
   ]
  },
  {
   "cell_type": "code",
   "execution_count": 3,
   "id": "b703cec7",
   "metadata": {
    "execution": {
     "iopub.execute_input": "2023-10-16T08:10:26.766694Z",
     "iopub.status.busy": "2023-10-16T08:10:26.766296Z",
     "iopub.status.idle": "2023-10-16T08:10:26.773223Z",
     "shell.execute_reply": "2023-10-16T08:10:26.772142Z"
    },
    "papermill": {
     "duration": 0.017711,
     "end_time": "2023-10-16T08:10:26.775190",
     "exception": false,
     "start_time": "2023-10-16T08:10:26.757479",
     "status": "completed"
    },
    "tags": []
   },
   "outputs": [
    {
     "data": {
      "text/plain": [
       "Index(['Order ID', 'Product', 'Quantity Ordered', 'Price Each', 'Order Date',\n",
       "       'Purchase Address'],\n",
       "      dtype='object')"
      ]
     },
     "execution_count": 3,
     "metadata": {},
     "output_type": "execute_result"
    }
   ],
   "source": [
    "df.columns     #to return the column labels of the given Dataframe"
   ]
  },
  {
   "cell_type": "code",
   "execution_count": 4,
   "id": "4f68e9de",
   "metadata": {
    "execution": {
     "iopub.execute_input": "2023-10-16T08:10:26.794506Z",
     "iopub.status.busy": "2023-10-16T08:10:26.793823Z",
     "iopub.status.idle": "2023-10-16T08:10:26.799052Z",
     "shell.execute_reply": "2023-10-16T08:10:26.798290Z"
    },
    "papermill": {
     "duration": 0.017226,
     "end_time": "2023-10-16T08:10:26.800856",
     "exception": false,
     "start_time": "2023-10-16T08:10:26.783630",
     "status": "completed"
    },
    "tags": []
   },
   "outputs": [
    {
     "data": {
      "text/plain": [
       "(186850, 6)"
      ]
     },
     "execution_count": 4,
     "metadata": {},
     "output_type": "execute_result"
    }
   ],
   "source": [
    "df.shape     #used to get the dimensions of any Python "
   ]
  },
  {
   "cell_type": "code",
   "execution_count": 5,
   "id": "278a0d10",
   "metadata": {
    "execution": {
     "iopub.execute_input": "2023-10-16T08:10:26.819320Z",
     "iopub.status.busy": "2023-10-16T08:10:26.818622Z",
     "iopub.status.idle": "2023-10-16T08:10:26.901149Z",
     "shell.execute_reply": "2023-10-16T08:10:26.900235Z"
    },
    "papermill": {
     "duration": 0.09448,
     "end_time": "2023-10-16T08:10:26.903604",
     "exception": false,
     "start_time": "2023-10-16T08:10:26.809124",
     "status": "completed"
    },
    "tags": []
   },
   "outputs": [
    {
     "name": "stdout",
     "output_type": "stream",
     "text": [
      "<class 'pandas.core.frame.DataFrame'>\n",
      "RangeIndex: 186850 entries, 0 to 186849\n",
      "Data columns (total 6 columns):\n",
      " #   Column            Non-Null Count   Dtype \n",
      "---  ------            --------------   ----- \n",
      " 0   Order ID          186305 non-null  object\n",
      " 1   Product           186305 non-null  object\n",
      " 2   Quantity Ordered  186305 non-null  object\n",
      " 3   Price Each        186305 non-null  object\n",
      " 4   Order Date        186305 non-null  object\n",
      " 5   Purchase Address  186305 non-null  object\n",
      "dtypes: object(6)\n",
      "memory usage: 8.6+ MB\n"
     ]
    }
   ],
   "source": [
    "df.info()   #prints information about the DataFrame."
   ]
  },
  {
   "cell_type": "markdown",
   "id": "9d2440db",
   "metadata": {
    "papermill": {
     "duration": 0.008321,
     "end_time": "2023-10-16T08:10:26.920010",
     "exception": false,
     "start_time": "2023-10-16T08:10:26.911689",
     "status": "completed"
    },
    "tags": []
   },
   "source": [
    "FINDING THE NULL VALUES AND DELETING THEM"
   ]
  },
  {
   "cell_type": "code",
   "execution_count": 6,
   "id": "18360bda",
   "metadata": {
    "execution": {
     "iopub.execute_input": "2023-10-16T08:10:26.939649Z",
     "iopub.status.busy": "2023-10-16T08:10:26.938713Z",
     "iopub.status.idle": "2023-10-16T08:10:27.001371Z",
     "shell.execute_reply": "2023-10-16T08:10:27.000014Z"
    },
    "papermill": {
     "duration": 0.074741,
     "end_time": "2023-10-16T08:10:27.003690",
     "exception": false,
     "start_time": "2023-10-16T08:10:26.928949",
     "status": "completed"
    },
    "tags": []
   },
   "outputs": [
    {
     "data": {
      "text/plain": [
       "Order ID            545\n",
       "Product             545\n",
       "Quantity Ordered    545\n",
       "Price Each          545\n",
       "Order Date          545\n",
       "Purchase Address    545\n",
       "dtype: int64"
      ]
     },
     "execution_count": 6,
     "metadata": {},
     "output_type": "execute_result"
    }
   ],
   "source": [
    "df.isnull().sum()   #function returns the number of NaN values in all columns of a Pandas DataFrame."
   ]
  },
  {
   "cell_type": "code",
   "execution_count": 7,
   "id": "799c321b",
   "metadata": {
    "execution": {
     "iopub.execute_input": "2023-10-16T08:10:27.022121Z",
     "iopub.status.busy": "2023-10-16T08:10:27.021780Z",
     "iopub.status.idle": "2023-10-16T08:10:27.082369Z",
     "shell.execute_reply": "2023-10-16T08:10:27.081389Z"
    },
    "papermill": {
     "duration": 0.07266,
     "end_time": "2023-10-16T08:10:27.084783",
     "exception": false,
     "start_time": "2023-10-16T08:10:27.012123",
     "status": "completed"
    },
    "tags": []
   },
   "outputs": [],
   "source": [
    "na_df = df[df.isna().any(axis = 1)]     #another way to see null values"
   ]
  },
  {
   "cell_type": "code",
   "execution_count": 8,
   "id": "b8ae5697",
   "metadata": {
    "execution": {
     "iopub.execute_input": "2023-10-16T08:10:27.103088Z",
     "iopub.status.busy": "2023-10-16T08:10:27.102749Z",
     "iopub.status.idle": "2023-10-16T08:10:27.182425Z",
     "shell.execute_reply": "2023-10-16T08:10:27.181285Z"
    },
    "papermill": {
     "duration": 0.091801,
     "end_time": "2023-10-16T08:10:27.184693",
     "exception": false,
     "start_time": "2023-10-16T08:10:27.092892",
     "status": "completed"
    },
    "tags": []
   },
   "outputs": [],
   "source": [
    "df.dropna(inplace = True) #DELETING NULL VALUES"
   ]
  },
  {
   "cell_type": "code",
   "execution_count": 9,
   "id": "896948f8",
   "metadata": {
    "execution": {
     "iopub.execute_input": "2023-10-16T08:10:27.202768Z",
     "iopub.status.busy": "2023-10-16T08:10:27.202387Z",
     "iopub.status.idle": "2023-10-16T08:10:27.265824Z",
     "shell.execute_reply": "2023-10-16T08:10:27.264647Z"
    },
    "papermill": {
     "duration": 0.075292,
     "end_time": "2023-10-16T08:10:27.268341",
     "exception": false,
     "start_time": "2023-10-16T08:10:27.193049",
     "status": "completed"
    },
    "tags": []
   },
   "outputs": [
    {
     "data": {
      "text/plain": [
       "Order ID            0\n",
       "Product             0\n",
       "Quantity Ordered    0\n",
       "Price Each          0\n",
       "Order Date          0\n",
       "Purchase Address    0\n",
       "dtype: int64"
      ]
     },
     "execution_count": 9,
     "metadata": {},
     "output_type": "execute_result"
    }
   ],
   "source": [
    "df.isnull().sum()   #checking the null values after deleting them"
   ]
  },
  {
   "cell_type": "markdown",
   "id": "4245ff52",
   "metadata": {
    "papermill": {
     "duration": 0.007731,
     "end_time": "2023-10-16T08:10:27.284578",
     "exception": false,
     "start_time": "2023-10-16T08:10:27.276847",
     "status": "completed"
    },
    "tags": []
   },
   "source": [
    "**CHANGING DTYPES**"
   ]
  },
  {
   "cell_type": "code",
   "execution_count": 10,
   "id": "2dcff312",
   "metadata": {
    "execution": {
     "iopub.execute_input": "2023-10-16T08:10:27.302032Z",
     "iopub.status.busy": "2023-10-16T08:10:27.301680Z",
     "iopub.status.idle": "2023-10-16T08:10:27.344856Z",
     "shell.execute_reply": "2023-10-16T08:10:27.343633Z"
    },
    "papermill": {
     "duration": 0.054917,
     "end_time": "2023-10-16T08:10:27.347348",
     "exception": false,
     "start_time": "2023-10-16T08:10:27.292431",
     "status": "completed"
    },
    "tags": []
   },
   "outputs": [],
   "source": [
    "df = df[df['Order ID'] != 'Order ID']    #order id has string values therefore we take the store the value in a dataset without the str values "
   ]
  },
  {
   "cell_type": "code",
   "execution_count": 11,
   "id": "d16982d5",
   "metadata": {
    "execution": {
     "iopub.execute_input": "2023-10-16T08:10:27.365169Z",
     "iopub.status.busy": "2023-10-16T08:10:27.364783Z",
     "iopub.status.idle": "2023-10-16T08:10:27.428418Z",
     "shell.execute_reply": "2023-10-16T08:10:27.427505Z"
    },
    "papermill": {
     "duration": 0.075195,
     "end_time": "2023-10-16T08:10:27.430646",
     "exception": false,
     "start_time": "2023-10-16T08:10:27.355451",
     "status": "completed"
    },
    "tags": []
   },
   "outputs": [
    {
     "name": "stdout",
     "output_type": "stream",
     "text": [
      "<class 'pandas.core.frame.DataFrame'>\n",
      "Index: 185950 entries, 0 to 186849\n",
      "Data columns (total 6 columns):\n",
      " #   Column            Non-Null Count   Dtype \n",
      "---  ------            --------------   ----- \n",
      " 0   Order ID          185950 non-null  object\n",
      " 1   Product           185950 non-null  object\n",
      " 2   Quantity Ordered  185950 non-null  object\n",
      " 3   Price Each        185950 non-null  object\n",
      " 4   Order Date        185950 non-null  object\n",
      " 5   Purchase Address  185950 non-null  object\n",
      "dtypes: object(6)\n",
      "memory usage: 9.9+ MB\n"
     ]
    }
   ],
   "source": [
    "df.info()"
   ]
  },
  {
   "cell_type": "markdown",
   "id": "8c991c32",
   "metadata": {
    "papermill": {
     "duration": 0.00772,
     "end_time": "2023-10-16T08:10:27.446494",
     "exception": false,
     "start_time": "2023-10-16T08:10:27.438774",
     "status": "completed"
    },
    "tags": []
   },
   "source": [
    "Changing the data types for variables to be used more effectively within the program."
   ]
  },
  {
   "cell_type": "code",
   "execution_count": 12,
   "id": "501677cd",
   "metadata": {
    "execution": {
     "iopub.execute_input": "2023-10-16T08:10:27.464004Z",
     "iopub.status.busy": "2023-10-16T08:10:27.463617Z",
     "iopub.status.idle": "2023-10-16T08:10:27.490044Z",
     "shell.execute_reply": "2023-10-16T08:10:27.488877Z"
    },
    "papermill": {
     "duration": 0.037899,
     "end_time": "2023-10-16T08:10:27.492272",
     "exception": false,
     "start_time": "2023-10-16T08:10:27.454373",
     "status": "completed"
    },
    "tags": []
   },
   "outputs": [],
   "source": [
    "df['Order ID'] = df['Order ID'].astype('int64')  #changing the datatype to int"
   ]
  },
  {
   "cell_type": "code",
   "execution_count": 13,
   "id": "e8ce717f",
   "metadata": {
    "execution": {
     "iopub.execute_input": "2023-10-16T08:10:27.510705Z",
     "iopub.status.busy": "2023-10-16T08:10:27.510341Z",
     "iopub.status.idle": "2023-10-16T08:10:27.607760Z",
     "shell.execute_reply": "2023-10-16T08:10:27.606642Z"
    },
    "papermill": {
     "duration": 0.109465,
     "end_time": "2023-10-16T08:10:27.609932",
     "exception": false,
     "start_time": "2023-10-16T08:10:27.500467",
     "status": "completed"
    },
    "tags": []
   },
   "outputs": [
    {
     "data": {
      "text/html": [
       "<div>\n",
       "<style scoped>\n",
       "    .dataframe tbody tr th:only-of-type {\n",
       "        vertical-align: middle;\n",
       "    }\n",
       "\n",
       "    .dataframe tbody tr th {\n",
       "        vertical-align: top;\n",
       "    }\n",
       "\n",
       "    .dataframe thead th {\n",
       "        text-align: right;\n",
       "    }\n",
       "</style>\n",
       "<table border=\"1\" class=\"dataframe\">\n",
       "  <thead>\n",
       "    <tr style=\"text-align: right;\">\n",
       "      <th></th>\n",
       "      <th>Order ID</th>\n",
       "      <th>Product</th>\n",
       "      <th>Quantity Ordered</th>\n",
       "      <th>Price Each</th>\n",
       "      <th>Order Date</th>\n",
       "      <th>Purchase Address</th>\n",
       "      <th>Month</th>\n",
       "    </tr>\n",
       "  </thead>\n",
       "  <tbody>\n",
       "    <tr>\n",
       "      <th>0</th>\n",
       "      <td>295665</td>\n",
       "      <td>Macbook Pro Laptop</td>\n",
       "      <td>1</td>\n",
       "      <td>1700</td>\n",
       "      <td>12/30/19 00:01</td>\n",
       "      <td>136 Church St, New York City, NY 10001</td>\n",
       "      <td>12</td>\n",
       "    </tr>\n",
       "    <tr>\n",
       "      <th>1</th>\n",
       "      <td>295666</td>\n",
       "      <td>LG Washing Machine</td>\n",
       "      <td>1</td>\n",
       "      <td>600.0</td>\n",
       "      <td>12/29/19 07:03</td>\n",
       "      <td>562 2nd St, New York City, NY 10001</td>\n",
       "      <td>12</td>\n",
       "    </tr>\n",
       "    <tr>\n",
       "      <th>2</th>\n",
       "      <td>295667</td>\n",
       "      <td>USB-C Charging Cable</td>\n",
       "      <td>1</td>\n",
       "      <td>11.95</td>\n",
       "      <td>12/12/19 18:21</td>\n",
       "      <td>277 Main St, New York City, NY 10001</td>\n",
       "      <td>12</td>\n",
       "    </tr>\n",
       "    <tr>\n",
       "      <th>3</th>\n",
       "      <td>295668</td>\n",
       "      <td>27in FHD Monitor</td>\n",
       "      <td>1</td>\n",
       "      <td>149.99</td>\n",
       "      <td>12/22/19 15:13</td>\n",
       "      <td>410 6th St, San Francisco, CA 94016</td>\n",
       "      <td>12</td>\n",
       "    </tr>\n",
       "    <tr>\n",
       "      <th>4</th>\n",
       "      <td>295669</td>\n",
       "      <td>USB-C Charging Cable</td>\n",
       "      <td>1</td>\n",
       "      <td>11.95</td>\n",
       "      <td>12/18/19 12:38</td>\n",
       "      <td>43 Hill St, Atlanta, GA 30301</td>\n",
       "      <td>12</td>\n",
       "    </tr>\n",
       "  </tbody>\n",
       "</table>\n",
       "</div>"
      ],
      "text/plain": [
       "   Order ID               Product Quantity Ordered Price Each      Order Date  \\\n",
       "0    295665    Macbook Pro Laptop                1       1700  12/30/19 00:01   \n",
       "1    295666    LG Washing Machine                1      600.0  12/29/19 07:03   \n",
       "2    295667  USB-C Charging Cable                1      11.95  12/12/19 18:21   \n",
       "3    295668      27in FHD Monitor                1     149.99  12/22/19 15:13   \n",
       "4    295669  USB-C Charging Cable                1      11.95  12/18/19 12:38   \n",
       "\n",
       "                         Purchase Address  Month  \n",
       "0  136 Church St, New York City, NY 10001     12  \n",
       "1     562 2nd St, New York City, NY 10001     12  \n",
       "2    277 Main St, New York City, NY 10001     12  \n",
       "3     410 6th St, San Francisco, CA 94016     12  \n",
       "4           43 Hill St, Atlanta, GA 30301     12  "
      ]
     },
     "execution_count": 13,
     "metadata": {},
     "output_type": "execute_result"
    }
   ],
   "source": [
    "#adding month col\n",
    "\n",
    "df['Month'] = df['Order Date'].str[0:2]\n",
    "df['Month'] = df['Month'].astype('int64')\n",
    "df.head()"
   ]
  },
  {
   "cell_type": "code",
   "execution_count": 14,
   "id": "3be20efc",
   "metadata": {
    "execution": {
     "iopub.execute_input": "2023-10-16T08:10:27.690345Z",
     "iopub.status.busy": "2023-10-16T08:10:27.689990Z",
     "iopub.status.idle": "2023-10-16T08:10:40.469934Z",
     "shell.execute_reply": "2023-10-16T08:10:40.468884Z"
    },
    "papermill": {
     "duration": 12.852324,
     "end_time": "2023-10-16T08:10:40.472342",
     "exception": false,
     "start_time": "2023-10-16T08:10:27.620018",
     "status": "completed"
    },
    "tags": []
   },
   "outputs": [
    {
     "name": "stderr",
     "output_type": "stream",
     "text": [
      "/tmp/ipykernel_20/3392648045.py:1: UserWarning: Could not infer format, so each element will be parsed individually, falling back to `dateutil`. To ensure parsing is consistent and as-expected, please specify a format.\n",
      "  df['Order Date'] = pd.to_datetime(df['Order Date'])   #changing the dtype to date time column\n"
     ]
    }
   ],
   "source": [
    "df['Order Date'] = pd.to_datetime(df['Order Date'])   #changing the dtype to date time column"
   ]
  },
  {
   "cell_type": "code",
   "execution_count": 15,
   "id": "1067f929",
   "metadata": {
    "execution": {
     "iopub.execute_input": "2023-10-16T08:10:40.491284Z",
     "iopub.status.busy": "2023-10-16T08:10:40.490939Z",
     "iopub.status.idle": "2023-10-16T08:10:40.520209Z",
     "shell.execute_reply": "2023-10-16T08:10:40.519102Z"
    },
    "papermill": {
     "duration": 0.0411,
     "end_time": "2023-10-16T08:10:40.522210",
     "exception": false,
     "start_time": "2023-10-16T08:10:40.481110",
     "status": "completed"
    },
    "tags": []
   },
   "outputs": [],
   "source": [
    "df['Price Each'] = df['Price Each'].astype(\"float\")   #changing the dtype to float"
   ]
  },
  {
   "cell_type": "code",
   "execution_count": 16,
   "id": "3a154b3d",
   "metadata": {
    "execution": {
     "iopub.execute_input": "2023-10-16T08:10:40.541146Z",
     "iopub.status.busy": "2023-10-16T08:10:40.540522Z",
     "iopub.status.idle": "2023-10-16T08:10:40.641225Z",
     "shell.execute_reply": "2023-10-16T08:10:40.639984Z"
    },
    "papermill": {
     "duration": 0.112659,
     "end_time": "2023-10-16T08:10:40.643528",
     "exception": false,
     "start_time": "2023-10-16T08:10:40.530869",
     "status": "completed"
    },
    "tags": []
   },
   "outputs": [],
   "source": [
    "df['Quantity Ordered'] = pd.to_numeric(df['Quantity Ordered'])   #changing the dtype to numeric"
   ]
  },
  {
   "cell_type": "code",
   "execution_count": 17,
   "id": "cd7d38aa",
   "metadata": {
    "execution": {
     "iopub.execute_input": "2023-10-16T08:10:40.663973Z",
     "iopub.status.busy": "2023-10-16T08:10:40.663607Z",
     "iopub.status.idle": "2023-10-16T08:10:40.684082Z",
     "shell.execute_reply": "2023-10-16T08:10:40.683052Z"
    },
    "papermill": {
     "duration": 0.034118,
     "end_time": "2023-10-16T08:10:40.686336",
     "exception": false,
     "start_time": "2023-10-16T08:10:40.652218",
     "status": "completed"
    },
    "tags": []
   },
   "outputs": [
    {
     "data": {
      "text/html": [
       "<div>\n",
       "<style scoped>\n",
       "    .dataframe tbody tr th:only-of-type {\n",
       "        vertical-align: middle;\n",
       "    }\n",
       "\n",
       "    .dataframe tbody tr th {\n",
       "        vertical-align: top;\n",
       "    }\n",
       "\n",
       "    .dataframe thead th {\n",
       "        text-align: right;\n",
       "    }\n",
       "</style>\n",
       "<table border=\"1\" class=\"dataframe\">\n",
       "  <thead>\n",
       "    <tr style=\"text-align: right;\">\n",
       "      <th></th>\n",
       "      <th>Order ID</th>\n",
       "      <th>Product</th>\n",
       "      <th>Quantity Ordered</th>\n",
       "      <th>Price Each</th>\n",
       "      <th>Order Date</th>\n",
       "      <th>Purchase Address</th>\n",
       "      <th>Month</th>\n",
       "      <th>Sales</th>\n",
       "    </tr>\n",
       "  </thead>\n",
       "  <tbody>\n",
       "    <tr>\n",
       "      <th>0</th>\n",
       "      <td>295665</td>\n",
       "      <td>Macbook Pro Laptop</td>\n",
       "      <td>1</td>\n",
       "      <td>1700.00</td>\n",
       "      <td>2019-12-30 00:01:00</td>\n",
       "      <td>136 Church St, New York City, NY 10001</td>\n",
       "      <td>12</td>\n",
       "      <td>1700.00</td>\n",
       "    </tr>\n",
       "    <tr>\n",
       "      <th>1</th>\n",
       "      <td>295666</td>\n",
       "      <td>LG Washing Machine</td>\n",
       "      <td>1</td>\n",
       "      <td>600.00</td>\n",
       "      <td>2019-12-29 07:03:00</td>\n",
       "      <td>562 2nd St, New York City, NY 10001</td>\n",
       "      <td>12</td>\n",
       "      <td>600.00</td>\n",
       "    </tr>\n",
       "    <tr>\n",
       "      <th>2</th>\n",
       "      <td>295667</td>\n",
       "      <td>USB-C Charging Cable</td>\n",
       "      <td>1</td>\n",
       "      <td>11.95</td>\n",
       "      <td>2019-12-12 18:21:00</td>\n",
       "      <td>277 Main St, New York City, NY 10001</td>\n",
       "      <td>12</td>\n",
       "      <td>11.95</td>\n",
       "    </tr>\n",
       "    <tr>\n",
       "      <th>3</th>\n",
       "      <td>295668</td>\n",
       "      <td>27in FHD Monitor</td>\n",
       "      <td>1</td>\n",
       "      <td>149.99</td>\n",
       "      <td>2019-12-22 15:13:00</td>\n",
       "      <td>410 6th St, San Francisco, CA 94016</td>\n",
       "      <td>12</td>\n",
       "      <td>149.99</td>\n",
       "    </tr>\n",
       "    <tr>\n",
       "      <th>4</th>\n",
       "      <td>295669</td>\n",
       "      <td>USB-C Charging Cable</td>\n",
       "      <td>1</td>\n",
       "      <td>11.95</td>\n",
       "      <td>2019-12-18 12:38:00</td>\n",
       "      <td>43 Hill St, Atlanta, GA 30301</td>\n",
       "      <td>12</td>\n",
       "      <td>11.95</td>\n",
       "    </tr>\n",
       "    <tr>\n",
       "      <th>...</th>\n",
       "      <td>...</td>\n",
       "      <td>...</td>\n",
       "      <td>...</td>\n",
       "      <td>...</td>\n",
       "      <td>...</td>\n",
       "      <td>...</td>\n",
       "      <td>...</td>\n",
       "      <td>...</td>\n",
       "    </tr>\n",
       "    <tr>\n",
       "      <th>186845</th>\n",
       "      <td>222905</td>\n",
       "      <td>AAA Batteries (4-pack)</td>\n",
       "      <td>1</td>\n",
       "      <td>2.99</td>\n",
       "      <td>2019-06-07 19:02:00</td>\n",
       "      <td>795 Pine St, Boston, MA 02215</td>\n",
       "      <td>6</td>\n",
       "      <td>2.99</td>\n",
       "    </tr>\n",
       "    <tr>\n",
       "      <th>186846</th>\n",
       "      <td>222906</td>\n",
       "      <td>27in FHD Monitor</td>\n",
       "      <td>1</td>\n",
       "      <td>149.99</td>\n",
       "      <td>2019-06-01 19:29:00</td>\n",
       "      <td>495 North St, New York City, NY 10001</td>\n",
       "      <td>6</td>\n",
       "      <td>149.99</td>\n",
       "    </tr>\n",
       "    <tr>\n",
       "      <th>186847</th>\n",
       "      <td>222907</td>\n",
       "      <td>USB-C Charging Cable</td>\n",
       "      <td>1</td>\n",
       "      <td>11.95</td>\n",
       "      <td>2019-06-22 18:57:00</td>\n",
       "      <td>319 Ridge St, San Francisco, CA 94016</td>\n",
       "      <td>6</td>\n",
       "      <td>11.95</td>\n",
       "    </tr>\n",
       "    <tr>\n",
       "      <th>186848</th>\n",
       "      <td>222908</td>\n",
       "      <td>USB-C Charging Cable</td>\n",
       "      <td>1</td>\n",
       "      <td>11.95</td>\n",
       "      <td>2019-06-26 18:35:00</td>\n",
       "      <td>916 Main St, San Francisco, CA 94016</td>\n",
       "      <td>6</td>\n",
       "      <td>11.95</td>\n",
       "    </tr>\n",
       "    <tr>\n",
       "      <th>186849</th>\n",
       "      <td>222909</td>\n",
       "      <td>AAA Batteries (4-pack)</td>\n",
       "      <td>1</td>\n",
       "      <td>2.99</td>\n",
       "      <td>2019-06-25 14:33:00</td>\n",
       "      <td>209 11th St, Atlanta, GA 30301</td>\n",
       "      <td>6</td>\n",
       "      <td>2.99</td>\n",
       "    </tr>\n",
       "  </tbody>\n",
       "</table>\n",
       "<p>185950 rows × 8 columns</p>\n",
       "</div>"
      ],
      "text/plain": [
       "        Order ID                 Product  Quantity Ordered  Price Each  \\\n",
       "0         295665      Macbook Pro Laptop                 1     1700.00   \n",
       "1         295666      LG Washing Machine                 1      600.00   \n",
       "2         295667    USB-C Charging Cable                 1       11.95   \n",
       "3         295668        27in FHD Monitor                 1      149.99   \n",
       "4         295669    USB-C Charging Cable                 1       11.95   \n",
       "...          ...                     ...               ...         ...   \n",
       "186845    222905  AAA Batteries (4-pack)                 1        2.99   \n",
       "186846    222906        27in FHD Monitor                 1      149.99   \n",
       "186847    222907    USB-C Charging Cable                 1       11.95   \n",
       "186848    222908    USB-C Charging Cable                 1       11.95   \n",
       "186849    222909  AAA Batteries (4-pack)                 1        2.99   \n",
       "\n",
       "                Order Date                        Purchase Address  Month  \\\n",
       "0      2019-12-30 00:01:00  136 Church St, New York City, NY 10001     12   \n",
       "1      2019-12-29 07:03:00     562 2nd St, New York City, NY 10001     12   \n",
       "2      2019-12-12 18:21:00    277 Main St, New York City, NY 10001     12   \n",
       "3      2019-12-22 15:13:00     410 6th St, San Francisco, CA 94016     12   \n",
       "4      2019-12-18 12:38:00           43 Hill St, Atlanta, GA 30301     12   \n",
       "...                    ...                                     ...    ...   \n",
       "186845 2019-06-07 19:02:00           795 Pine St, Boston, MA 02215      6   \n",
       "186846 2019-06-01 19:29:00   495 North St, New York City, NY 10001      6   \n",
       "186847 2019-06-22 18:57:00   319 Ridge St, San Francisco, CA 94016      6   \n",
       "186848 2019-06-26 18:35:00    916 Main St, San Francisco, CA 94016      6   \n",
       "186849 2019-06-25 14:33:00          209 11th St, Atlanta, GA 30301      6   \n",
       "\n",
       "          Sales  \n",
       "0       1700.00  \n",
       "1        600.00  \n",
       "2         11.95  \n",
       "3        149.99  \n",
       "4         11.95  \n",
       "...         ...  \n",
       "186845     2.99  \n",
       "186846   149.99  \n",
       "186847    11.95  \n",
       "186848    11.95  \n",
       "186849     2.99  \n",
       "\n",
       "[185950 rows x 8 columns]"
      ]
     },
     "execution_count": 17,
     "metadata": {},
     "output_type": "execute_result"
    }
   ],
   "source": [
    "# adding sales col\n",
    "df['Sales'] = df['Quantity Ordered'] * df['Price Each']\n",
    "df"
   ]
  },
  {
   "cell_type": "markdown",
   "id": "0cf8b667",
   "metadata": {
    "papermill": {
     "duration": 0.011075,
     "end_time": "2023-10-16T08:10:40.706350",
     "exception": false,
     "start_time": "2023-10-16T08:10:40.695275",
     "status": "completed"
    },
    "tags": []
   },
   "source": [
    "Adding city column as it is needed for our analysis "
   ]
  },
  {
   "cell_type": "code",
   "execution_count": 18,
   "id": "156ce99d",
   "metadata": {
    "execution": {
     "iopub.execute_input": "2023-10-16T08:10:40.728637Z",
     "iopub.status.busy": "2023-10-16T08:10:40.728248Z",
     "iopub.status.idle": "2023-10-16T08:10:40.733554Z",
     "shell.execute_reply": "2023-10-16T08:10:40.732399Z"
    },
    "papermill": {
     "duration": 0.019052,
     "end_time": "2023-10-16T08:10:40.735816",
     "exception": false,
     "start_time": "2023-10-16T08:10:40.716764",
     "status": "completed"
    },
    "tags": []
   },
   "outputs": [],
   "source": [
    "def get_city(Address):\n",
    "    return Address.split(\",\")[1]\n",
    "\n",
    "def get_state(Address):\n",
    "    return Address.split(\",\")[2].split(\" \")[1]\n"
   ]
  },
  {
   "cell_type": "code",
   "execution_count": 19,
   "id": "8fa272ca",
   "metadata": {
    "execution": {
     "iopub.execute_input": "2023-10-16T08:10:40.760668Z",
     "iopub.status.busy": "2023-10-16T08:10:40.759724Z",
     "iopub.status.idle": "2023-10-16T08:10:40.974034Z",
     "shell.execute_reply": "2023-10-16T08:10:40.972998Z"
    },
    "papermill": {
     "duration": 0.23112,
     "end_time": "2023-10-16T08:10:40.976067",
     "exception": false,
     "start_time": "2023-10-16T08:10:40.744947",
     "status": "completed"
    },
    "tags": []
   },
   "outputs": [
    {
     "data": {
      "text/plain": [
       "0          New York City (NY)\n",
       "1          New York City (NY)\n",
       "2          New York City (NY)\n",
       "3          San Francisco (CA)\n",
       "4                Atlanta (GA)\n",
       "                 ...         \n",
       "186845            Boston (MA)\n",
       "186846     New York City (NY)\n",
       "186847     San Francisco (CA)\n",
       "186848     San Francisco (CA)\n",
       "186849           Atlanta (GA)\n",
       "Name: City, Length: 185950, dtype: object"
      ]
     },
     "execution_count": 19,
     "metadata": {},
     "output_type": "execute_result"
    }
   ],
   "source": [
    "df['City'] = df['Purchase Address'].apply(lambda x : f\"{get_city(x)} ({get_state(x)})\")  #F-strings are used in Python for concise and readable string formatting with dynamic content.\n",
    "df['City']"
   ]
  },
  {
   "cell_type": "markdown",
   "id": "0fbda460",
   "metadata": {
    "papermill": {
     "duration": 0.008457,
     "end_time": "2023-10-16T08:10:40.993387",
     "exception": false,
     "start_time": "2023-10-16T08:10:40.984930",
     "status": "completed"
    },
    "tags": []
   },
   "source": [
    "* which country/city is the highest and lowest sales maker\n",
    "* what time of the day does majority sales happen \n",
    "* which is the highest bought product \n",
    "* which month recorded higest sales "
   ]
  },
  {
   "cell_type": "code",
   "execution_count": 20,
   "id": "dd4f763e",
   "metadata": {
    "execution": {
     "iopub.execute_input": "2023-10-16T08:10:41.012371Z",
     "iopub.status.busy": "2023-10-16T08:10:41.012037Z",
     "iopub.status.idle": "2023-10-16T08:10:41.310885Z",
     "shell.execute_reply": "2023-10-16T08:10:41.309619Z"
    },
    "papermill": {
     "duration": 0.311144,
     "end_time": "2023-10-16T08:10:41.313216",
     "exception": false,
     "start_time": "2023-10-16T08:10:41.002072",
     "status": "completed"
    },
    "tags": []
   },
   "outputs": [
    {
     "data": {
      "image/png": "[encoded data removed]",
      "text/plain": [
       "<Figure size 1200x500 with 1 Axes>"
      ]
     },
     "metadata": {},
     "output_type": "display_data"
    }
   ],
   "source": [
    "Monthly_Sales = df[['Month', 'Sales']].groupby(by = 'Month').sum()\n",
    "months = (range(1,13))\n",
    "plt.figure(figsize = (12,5))\n",
    "plt.bar(months ,Monthly_Sales[\"Sales\"])\n",
    "plt.title(\"Sales Vs Month\", fontsize = 15 )\n",
    "xlim = (1,13)\n",
    "plt.xticks(np.arange(1,13),['JAN','FEB','MAR','APR','MAY','JUN','JUL','AUG','SEP','OCT','NOV','DEC'])\n",
    " \n",
    "plt.show()"
   ]
  },
  {
   "cell_type": "markdown",
   "id": "c879352c",
   "metadata": {
    "papermill": {
     "duration": 0.009076,
     "end_time": "2023-10-16T08:10:41.332236",
     "exception": false,
     "start_time": "2023-10-16T08:10:41.323160",
     "status": "completed"
    },
    "tags": []
   },
   "source": [
    "**In the sales data analysis, December emerges as the peak month with the highest sales figures. On the other hand, January records the lowest sales, indicating a seasonal fluctuation in consumer purchasing behavior. This information provides valuable insights for business planning and resource allocation. It suggests the importance of strategic marketing and inventory management to capitalize on the peak season in December and mitigate the slower sales trend in January.**"
   ]
  },
  {
   "cell_type": "code",
   "execution_count": 21,
   "id": "b4f2814d",
   "metadata": {
    "execution": {
     "iopub.execute_input": "2023-10-16T08:10:41.352317Z",
     "iopub.status.busy": "2023-10-16T08:10:41.351967Z",
     "iopub.status.idle": "2023-10-16T08:10:41.370759Z",
     "shell.execute_reply": "2023-10-16T08:10:41.369837Z"
    },
    "papermill": {
     "duration": 0.031248,
     "end_time": "2023-10-16T08:10:41.372680",
     "exception": false,
     "start_time": "2023-10-16T08:10:41.341432",
     "status": "completed"
    },
    "tags": []
   },
   "outputs": [
    {
     "data": {
      "text/plain": [
       "array(['Macbook Pro Laptop', 'LG Washing Machine', 'USB-C Charging Cable',\n",
       "       '27in FHD Monitor', 'AA Batteries (4-pack)',\n",
       "       'Bose SoundSport Headphones', 'AAA Batteries (4-pack)',\n",
       "       'ThinkPad Laptop', 'Lightning Charging Cable', 'Google Phone',\n",
       "       'Wired Headphones', 'Apple Airpods Headphones', 'Vareebadd Phone',\n",
       "       'iPhone', '20in Monitor', '34in Ultrawide Monitor',\n",
       "       'Flatscreen TV', '27in 4K Gaming Monitor', 'LG Dryer'],\n",
       "      dtype=object)"
      ]
     },
     "execution_count": 21,
     "metadata": {},
     "output_type": "execute_result"
    }
   ],
   "source": [
    "df['Product'].unique()"
   ]
  },
  {
   "cell_type": "code",
   "execution_count": 22,
   "id": "35ec18cf",
   "metadata": {
    "execution": {
     "iopub.execute_input": "2023-10-16T08:10:41.393720Z",
     "iopub.status.busy": "2023-10-16T08:10:41.392748Z",
     "iopub.status.idle": "2023-10-16T08:10:41.419016Z",
     "shell.execute_reply": "2023-10-16T08:10:41.418056Z"
    },
    "papermill": {
     "duration": 0.038906,
     "end_time": "2023-10-16T08:10:41.421056",
     "exception": false,
     "start_time": "2023-10-16T08:10:41.382150",
     "status": "completed"
    },
    "tags": []
   },
   "outputs": [
    {
     "data": {
      "text/html": [
       "<div>\n",
       "<style scoped>\n",
       "    .dataframe tbody tr th:only-of-type {\n",
       "        vertical-align: middle;\n",
       "    }\n",
       "\n",
       "    .dataframe tbody tr th {\n",
       "        vertical-align: top;\n",
       "    }\n",
       "\n",
       "    .dataframe thead th {\n",
       "        text-align: right;\n",
       "    }\n",
       "</style>\n",
       "<table border=\"1\" class=\"dataframe\">\n",
       "  <thead>\n",
       "    <tr style=\"text-align: right;\">\n",
       "      <th></th>\n",
       "      <th>Product</th>\n",
       "      <th>Sales</th>\n",
       "    </tr>\n",
       "  </thead>\n",
       "  <tbody>\n",
       "    <tr>\n",
       "      <th>0</th>\n",
       "      <td>USB-C Charging Cable</td>\n",
       "      <td>21903</td>\n",
       "    </tr>\n",
       "    <tr>\n",
       "      <th>1</th>\n",
       "      <td>Lightning Charging Cable</td>\n",
       "      <td>21658</td>\n",
       "    </tr>\n",
       "    <tr>\n",
       "      <th>2</th>\n",
       "      <td>AAA Batteries (4-pack)</td>\n",
       "      <td>20641</td>\n",
       "    </tr>\n",
       "    <tr>\n",
       "      <th>3</th>\n",
       "      <td>AA Batteries (4-pack)</td>\n",
       "      <td>20577</td>\n",
       "    </tr>\n",
       "    <tr>\n",
       "      <th>4</th>\n",
       "      <td>Wired Headphones</td>\n",
       "      <td>18882</td>\n",
       "    </tr>\n",
       "    <tr>\n",
       "      <th>5</th>\n",
       "      <td>Apple Airpods Headphones</td>\n",
       "      <td>15549</td>\n",
       "    </tr>\n",
       "    <tr>\n",
       "      <th>6</th>\n",
       "      <td>Bose SoundSport Headphones</td>\n",
       "      <td>13325</td>\n",
       "    </tr>\n",
       "    <tr>\n",
       "      <th>7</th>\n",
       "      <td>27in FHD Monitor</td>\n",
       "      <td>7507</td>\n",
       "    </tr>\n",
       "    <tr>\n",
       "      <th>8</th>\n",
       "      <td>iPhone</td>\n",
       "      <td>6842</td>\n",
       "    </tr>\n",
       "    <tr>\n",
       "      <th>9</th>\n",
       "      <td>27in 4K Gaming Monitor</td>\n",
       "      <td>6230</td>\n",
       "    </tr>\n",
       "  </tbody>\n",
       "</table>\n",
       "</div>"
      ],
      "text/plain": [
       "                      Product  Sales\n",
       "0        USB-C Charging Cable  21903\n",
       "1    Lightning Charging Cable  21658\n",
       "2      AAA Batteries (4-pack)  20641\n",
       "3       AA Batteries (4-pack)  20577\n",
       "4            Wired Headphones  18882\n",
       "5    Apple Airpods Headphones  15549\n",
       "6  Bose SoundSport Headphones  13325\n",
       "7            27in FHD Monitor   7507\n",
       "8                      iPhone   6842\n",
       "9      27in 4K Gaming Monitor   6230"
      ]
     },
     "execution_count": 22,
     "metadata": {},
     "output_type": "execute_result"
    }
   ],
   "source": [
    "highly_sold = df.groupby('Product')['Sales'].count().sort_values(ascending = False)[:10].reset_index()\n",
    "highly_sold"
   ]
  },
  {
   "cell_type": "code",
   "execution_count": 23,
   "id": "92e2107d",
   "metadata": {
    "execution": {
     "iopub.execute_input": "2023-10-16T08:10:41.441985Z",
     "iopub.status.busy": "2023-10-16T08:10:41.441255Z",
     "iopub.status.idle": "2023-10-16T08:10:41.716817Z",
     "shell.execute_reply": "2023-10-16T08:10:41.715583Z"
    },
    "papermill": {
     "duration": 0.288397,
     "end_time": "2023-10-16T08:10:41.719054",
     "exception": false,
     "start_time": "2023-10-16T08:10:41.430657",
     "status": "completed"
    },
    "tags": []
   },
   "outputs": [
    {
     "data": {
      "image/png": "[encoded data removed]",
      "text/plain": [
       "<Figure size 800x600 with 1 Axes>"
      ]
     },
     "metadata": {},
     "output_type": "display_data"
    }
   ],
   "source": [
    "plt.figure(figsize = (8,6))\n",
    "sns.barplot(y = 'Product', x = 'Sales', data= highly_sold, palette = 'flare')\n",
    "plt.title(\"Mostly Sold Products\", fontsize = 15)\n",
    "plt.show()"
   ]
  },
  {
   "cell_type": "markdown",
   "id": "9341d448",
   "metadata": {
    "papermill": {
     "duration": 0.010834,
     "end_time": "2023-10-16T08:10:41.740756",
     "exception": false,
     "start_time": "2023-10-16T08:10:41.729922",
     "status": "completed"
    },
    "tags": []
   },
   "source": [
    "**From the above graph we know the Top 10 items mostly bought. The highest sold products in the dataset are the \"USB-C Charging Cable,\" \"Lightning Charging Cable,\" and \"AAA Batteries.\" These items stand out as top performers in terms of sales, suggesting their popularity among consumers. This insight can inform inventory management and marketing strategies to further capitalize on the demand for these products and potentially explore opportunities for cross-selling or bundling.**"
   ]
  },
  {
   "cell_type": "code",
   "execution_count": 24,
   "id": "19e1eabd",
   "metadata": {
    "execution": {
     "iopub.execute_input": "2023-10-16T08:10:41.764845Z",
     "iopub.status.busy": "2023-10-16T08:10:41.764456Z",
     "iopub.status.idle": "2023-10-16T08:10:41.818766Z",
     "shell.execute_reply": "2023-10-16T08:10:41.817816Z"
    },
    "papermill": {
     "duration": 0.06894,
     "end_time": "2023-10-16T08:10:41.821102",
     "exception": false,
     "start_time": "2023-10-16T08:10:41.752162",
     "status": "completed"
    },
    "tags": []
   },
   "outputs": [
    {
     "data": {
      "text/html": [
       "<div>\n",
       "<style scoped>\n",
       "    .dataframe tbody tr th:only-of-type {\n",
       "        vertical-align: middle;\n",
       "    }\n",
       "\n",
       "    .dataframe tbody tr th {\n",
       "        vertical-align: top;\n",
       "    }\n",
       "\n",
       "    .dataframe thead th {\n",
       "        text-align: right;\n",
       "    }\n",
       "</style>\n",
       "<table border=\"1\" class=\"dataframe\">\n",
       "  <thead>\n",
       "    <tr style=\"text-align: right;\">\n",
       "      <th></th>\n",
       "      <th>Order ID</th>\n",
       "      <th>Product</th>\n",
       "      <th>Quantity Ordered</th>\n",
       "      <th>Price Each</th>\n",
       "      <th>Order Date</th>\n",
       "      <th>Purchase Address</th>\n",
       "      <th>Month</th>\n",
       "      <th>Sales</th>\n",
       "      <th>City</th>\n",
       "      <th>Hour</th>\n",
       "      <th>Minute</th>\n",
       "    </tr>\n",
       "  </thead>\n",
       "  <tbody>\n",
       "    <tr>\n",
       "      <th>0</th>\n",
       "      <td>295665</td>\n",
       "      <td>Macbook Pro Laptop</td>\n",
       "      <td>1</td>\n",
       "      <td>1700.00</td>\n",
       "      <td>2019-12-30 00:01:00</td>\n",
       "      <td>136 Church St, New York City, NY 10001</td>\n",
       "      <td>12</td>\n",
       "      <td>1700.00</td>\n",
       "      <td>New York City (NY)</td>\n",
       "      <td>0</td>\n",
       "      <td>1</td>\n",
       "    </tr>\n",
       "    <tr>\n",
       "      <th>1</th>\n",
       "      <td>295666</td>\n",
       "      <td>LG Washing Machine</td>\n",
       "      <td>1</td>\n",
       "      <td>600.00</td>\n",
       "      <td>2019-12-29 07:03:00</td>\n",
       "      <td>562 2nd St, New York City, NY 10001</td>\n",
       "      <td>12</td>\n",
       "      <td>600.00</td>\n",
       "      <td>New York City (NY)</td>\n",
       "      <td>7</td>\n",
       "      <td>3</td>\n",
       "    </tr>\n",
       "    <tr>\n",
       "      <th>2</th>\n",
       "      <td>295667</td>\n",
       "      <td>USB-C Charging Cable</td>\n",
       "      <td>1</td>\n",
       "      <td>11.95</td>\n",
       "      <td>2019-12-12 18:21:00</td>\n",
       "      <td>277 Main St, New York City, NY 10001</td>\n",
       "      <td>12</td>\n",
       "      <td>11.95</td>\n",
       "      <td>New York City (NY)</td>\n",
       "      <td>18</td>\n",
       "      <td>21</td>\n",
       "    </tr>\n",
       "    <tr>\n",
       "      <th>3</th>\n",
       "      <td>295668</td>\n",
       "      <td>27in FHD Monitor</td>\n",
       "      <td>1</td>\n",
       "      <td>149.99</td>\n",
       "      <td>2019-12-22 15:13:00</td>\n",
       "      <td>410 6th St, San Francisco, CA 94016</td>\n",
       "      <td>12</td>\n",
       "      <td>149.99</td>\n",
       "      <td>San Francisco (CA)</td>\n",
       "      <td>15</td>\n",
       "      <td>13</td>\n",
       "    </tr>\n",
       "    <tr>\n",
       "      <th>4</th>\n",
       "      <td>295669</td>\n",
       "      <td>USB-C Charging Cable</td>\n",
       "      <td>1</td>\n",
       "      <td>11.95</td>\n",
       "      <td>2019-12-18 12:38:00</td>\n",
       "      <td>43 Hill St, Atlanta, GA 30301</td>\n",
       "      <td>12</td>\n",
       "      <td>11.95</td>\n",
       "      <td>Atlanta (GA)</td>\n",
       "      <td>12</td>\n",
       "      <td>38</td>\n",
       "    </tr>\n",
       "    <tr>\n",
       "      <th>...</th>\n",
       "      <td>...</td>\n",
       "      <td>...</td>\n",
       "      <td>...</td>\n",
       "      <td>...</td>\n",
       "      <td>...</td>\n",
       "      <td>...</td>\n",
       "      <td>...</td>\n",
       "      <td>...</td>\n",
       "      <td>...</td>\n",
       "      <td>...</td>\n",
       "      <td>...</td>\n",
       "    </tr>\n",
       "    <tr>\n",
       "      <th>186845</th>\n",
       "      <td>222905</td>\n",
       "      <td>AAA Batteries (4-pack)</td>\n",
       "      <td>1</td>\n",
       "      <td>2.99</td>\n",
       "      <td>2019-06-07 19:02:00</td>\n",
       "      <td>795 Pine St, Boston, MA 02215</td>\n",
       "      <td>6</td>\n",
       "      <td>2.99</td>\n",
       "      <td>Boston (MA)</td>\n",
       "      <td>19</td>\n",
       "      <td>2</td>\n",
       "    </tr>\n",
       "    <tr>\n",
       "      <th>186846</th>\n",
       "      <td>222906</td>\n",
       "      <td>27in FHD Monitor</td>\n",
       "      <td>1</td>\n",
       "      <td>149.99</td>\n",
       "      <td>2019-06-01 19:29:00</td>\n",
       "      <td>495 North St, New York City, NY 10001</td>\n",
       "      <td>6</td>\n",
       "      <td>149.99</td>\n",
       "      <td>New York City (NY)</td>\n",
       "      <td>19</td>\n",
       "      <td>29</td>\n",
       "    </tr>\n",
       "    <tr>\n",
       "      <th>186847</th>\n",
       "      <td>222907</td>\n",
       "      <td>USB-C Charging Cable</td>\n",
       "      <td>1</td>\n",
       "      <td>11.95</td>\n",
       "      <td>2019-06-22 18:57:00</td>\n",
       "      <td>319 Ridge St, San Francisco, CA 94016</td>\n",
       "      <td>6</td>\n",
       "      <td>11.95</td>\n",
       "      <td>San Francisco (CA)</td>\n",
       "      <td>18</td>\n",
       "      <td>57</td>\n",
       "    </tr>\n",
       "    <tr>\n",
       "      <th>186848</th>\n",
       "      <td>222908</td>\n",
       "      <td>USB-C Charging Cable</td>\n",
       "      <td>1</td>\n",
       "      <td>11.95</td>\n",
       "      <td>2019-06-26 18:35:00</td>\n",
       "      <td>916 Main St, San Francisco, CA 94016</td>\n",
       "      <td>6</td>\n",
       "      <td>11.95</td>\n",
       "      <td>San Francisco (CA)</td>\n",
       "      <td>18</td>\n",
       "      <td>35</td>\n",
       "    </tr>\n",
       "    <tr>\n",
       "      <th>186849</th>\n",
       "      <td>222909</td>\n",
       "      <td>AAA Batteries (4-pack)</td>\n",
       "      <td>1</td>\n",
       "      <td>2.99</td>\n",
       "      <td>2019-06-25 14:33:00</td>\n",
       "      <td>209 11th St, Atlanta, GA 30301</td>\n",
       "      <td>6</td>\n",
       "      <td>2.99</td>\n",
       "      <td>Atlanta (GA)</td>\n",
       "      <td>14</td>\n",
       "      <td>33</td>\n",
       "    </tr>\n",
       "  </tbody>\n",
       "</table>\n",
       "<p>185950 rows × 11 columns</p>\n",
       "</div>"
      ],
      "text/plain": [
       "        Order ID                 Product  Quantity Ordered  Price Each  \\\n",
       "0         295665      Macbook Pro Laptop                 1     1700.00   \n",
       "1         295666      LG Washing Machine                 1      600.00   \n",
       "2         295667    USB-C Charging Cable                 1       11.95   \n",
       "3         295668        27in FHD Monitor                 1      149.99   \n",
       "4         295669    USB-C Charging Cable                 1       11.95   \n",
       "...          ...                     ...               ...         ...   \n",
       "186845    222905  AAA Batteries (4-pack)                 1        2.99   \n",
       "186846    222906        27in FHD Monitor                 1      149.99   \n",
       "186847    222907    USB-C Charging Cable                 1       11.95   \n",
       "186848    222908    USB-C Charging Cable                 1       11.95   \n",
       "186849    222909  AAA Batteries (4-pack)                 1        2.99   \n",
       "\n",
       "                Order Date                        Purchase Address  Month  \\\n",
       "0      2019-12-30 00:01:00  136 Church St, New York City, NY 10001     12   \n",
       "1      2019-12-29 07:03:00     562 2nd St, New York City, NY 10001     12   \n",
       "2      2019-12-12 18:21:00    277 Main St, New York City, NY 10001     12   \n",
       "3      2019-12-22 15:13:00     410 6th St, San Francisco, CA 94016     12   \n",
       "4      2019-12-18 12:38:00           43 Hill St, Atlanta, GA 30301     12   \n",
       "...                    ...                                     ...    ...   \n",
       "186845 2019-06-07 19:02:00           795 Pine St, Boston, MA 02215      6   \n",
       "186846 2019-06-01 19:29:00   495 North St, New York City, NY 10001      6   \n",
       "186847 2019-06-22 18:57:00   319 Ridge St, San Francisco, CA 94016      6   \n",
       "186848 2019-06-26 18:35:00    916 Main St, San Francisco, CA 94016      6   \n",
       "186849 2019-06-25 14:33:00          209 11th St, Atlanta, GA 30301      6   \n",
       "\n",
       "          Sales                 City  Hour  Minute  \n",
       "0       1700.00   New York City (NY)     0       1  \n",
       "1        600.00   New York City (NY)     7       3  \n",
       "2         11.95   New York City (NY)    18      21  \n",
       "3        149.99   San Francisco (CA)    15      13  \n",
       "4         11.95         Atlanta (GA)    12      38  \n",
       "...         ...                  ...   ...     ...  \n",
       "186845     2.99          Boston (MA)    19       2  \n",
       "186846   149.99   New York City (NY)    19      29  \n",
       "186847    11.95   San Francisco (CA)    18      57  \n",
       "186848    11.95   San Francisco (CA)    18      35  \n",
       "186849     2.99         Atlanta (GA)    14      33  \n",
       "\n",
       "[185950 rows x 11 columns]"
      ]
     },
     "execution_count": 24,
     "metadata": {},
     "output_type": "execute_result"
    }
   ],
   "source": [
    "df['Hour'] = df['Order Date'].dt.hour\n",
    "df['Minute'] = df['Order Date'].dt.minute\n",
    "df"
   ]
  },
  {
   "cell_type": "code",
   "execution_count": 25,
   "id": "b21c7bf9",
   "metadata": {
    "execution": {
     "iopub.execute_input": "2023-10-16T08:10:41.844469Z",
     "iopub.status.busy": "2023-10-16T08:10:41.844146Z",
     "iopub.status.idle": "2023-10-16T08:10:42.217765Z",
     "shell.execute_reply": "2023-10-16T08:10:42.216668Z"
    },
    "papermill": {
     "duration": 0.387917,
     "end_time": "2023-10-16T08:10:42.220026",
     "exception": false,
     "start_time": "2023-10-16T08:10:41.832109",
     "status": "completed"
    },
    "tags": []
   },
   "outputs": [
    {
     "data": {
      "image/png": "[encoded data removed]",
      "text/plain": [
       "<Figure size 1000x500 with 1 Axes>"
      ]
     },
     "metadata": {},
     "output_type": "display_data"
    }
   ],
   "source": [
    "Peak_hours = df['Hour'].value_counts().sort_index()\n",
    "plt.figure(figsize = (10,5))\n",
    "plt.title('Peak hours for Sales', fontsize = 15)\n",
    "plt.xticks(np.arange(1,25))\n",
    "plt.plot(Peak_hours)\n",
    "plt.xlabel('Hours')\n",
    "plt.ylabel('No of Sales')\n",
    "plt.grid()"
   ]
  },
  {
   "cell_type": "markdown",
   "id": "a2e5d1e8",
   "metadata": {
    "papermill": {
     "duration": 0.012063,
     "end_time": "2023-10-16T08:10:42.243922",
     "exception": false,
     "start_time": "2023-10-16T08:10:42.231859",
     "status": "completed"
    },
    "tags": []
   },
   "source": [
    "**The above chart shows the highest number of sales is consistently observed after 10 am, with a peak between 12 pm and 9 pm. These active hours signify a strong consumer presence, indicating that the majority of purchases occur during this time. Businesses should target marketing efforts and inventory management to align with this peak period for maximizing sales and customer engagement. Additionally, they could strategically display advertisements during these hours to further enhance visibility and capitalize on consumer activity.**"
   ]
  },
  {
   "cell_type": "code",
   "execution_count": 26,
   "id": "757b494c",
   "metadata": {
    "execution": {
     "iopub.execute_input": "2023-10-16T08:10:42.271227Z",
     "iopub.status.busy": "2023-10-16T08:10:42.270076Z",
     "iopub.status.idle": "2023-10-16T08:10:42.291464Z",
     "shell.execute_reply": "2023-10-16T08:10:42.290390Z"
    },
    "papermill": {
     "duration": 0.037878,
     "end_time": "2023-10-16T08:10:42.293913",
     "exception": false,
     "start_time": "2023-10-16T08:10:42.256035",
     "status": "completed"
    },
    "tags": []
   },
   "outputs": [
    {
     "data": {
      "text/plain": [
       "array([' New York City (NY)', ' San Francisco (CA)', ' Atlanta (GA)',\n",
       "       ' Portland (OR)', ' Dallas (TX)', ' Los Angeles (CA)',\n",
       "       ' Boston (MA)', ' Austin (TX)', ' Portland (ME)', ' Seattle (WA)'],\n",
       "      dtype=object)"
      ]
     },
     "execution_count": 26,
     "metadata": {},
     "output_type": "execute_result"
    }
   ],
   "source": [
    "df['City'].unique()"
   ]
  },
  {
   "cell_type": "code",
   "execution_count": 27,
   "id": "6e7ab253",
   "metadata": {
    "execution": {
     "iopub.execute_input": "2023-10-16T08:10:42.320710Z",
     "iopub.status.busy": "2023-10-16T08:10:42.320319Z",
     "iopub.status.idle": "2023-10-16T08:10:42.327458Z",
     "shell.execute_reply": "2023-10-16T08:10:42.326743Z"
    },
    "papermill": {
     "duration": 0.023759,
     "end_time": "2023-10-16T08:10:42.329501",
     "exception": false,
     "start_time": "2023-10-16T08:10:42.305742",
     "status": "completed"
    },
    "tags": []
   },
   "outputs": [
    {
     "data": {
      "text/plain": [
       "Order ID                     int64\n",
       "Product                     object\n",
       "Quantity Ordered             int64\n",
       "Price Each                 float64\n",
       "Order Date          datetime64[ns]\n",
       "Purchase Address            object\n",
       "Month                        int64\n",
       "Sales                      float64\n",
       "City                        object\n",
       "Hour                         int32\n",
       "Minute                       int32\n",
       "dtype: object"
      ]
     },
     "execution_count": 27,
     "metadata": {},
     "output_type": "execute_result"
    }
   ],
   "source": [
    "df.dtypes"
   ]
  },
  {
   "cell_type": "code",
   "execution_count": 28,
   "id": "49c4c410",
   "metadata": {
    "execution": {
     "iopub.execute_input": "2023-10-16T08:10:42.356868Z",
     "iopub.status.busy": "2023-10-16T08:10:42.356468Z",
     "iopub.status.idle": "2023-10-16T08:10:42.425014Z",
     "shell.execute_reply": "2023-10-16T08:10:42.424132Z"
    },
    "papermill": {
     "duration": 0.085086,
     "end_time": "2023-10-16T08:10:42.427391",
     "exception": false,
     "start_time": "2023-10-16T08:10:42.342305",
     "status": "completed"
    },
    "tags": []
   },
   "outputs": [],
   "source": [
    "df['City'] = df['City'].str.strip()"
   ]
  },
  {
   "cell_type": "code",
   "execution_count": 29,
   "id": "9fc6bbc4",
   "metadata": {
    "execution": {
     "iopub.execute_input": "2023-10-16T08:10:42.453463Z",
     "iopub.status.busy": "2023-10-16T08:10:42.452916Z",
     "iopub.status.idle": "2023-10-16T08:10:42.483835Z",
     "shell.execute_reply": "2023-10-16T08:10:42.482654Z"
    },
    "papermill": {
     "duration": 0.046875,
     "end_time": "2023-10-16T08:10:42.486138",
     "exception": false,
     "start_time": "2023-10-16T08:10:42.439263",
     "status": "completed"
    },
    "tags": []
   },
   "outputs": [
    {
     "data": {
      "text/html": [
       "<div>\n",
       "<style scoped>\n",
       "    .dataframe tbody tr th:only-of-type {\n",
       "        vertical-align: middle;\n",
       "    }\n",
       "\n",
       "    .dataframe tbody tr th {\n",
       "        vertical-align: top;\n",
       "    }\n",
       "\n",
       "    .dataframe thead th {\n",
       "        text-align: right;\n",
       "    }\n",
       "</style>\n",
       "<table border=\"1\" class=\"dataframe\">\n",
       "  <thead>\n",
       "    <tr style=\"text-align: right;\">\n",
       "      <th></th>\n",
       "      <th>City</th>\n",
       "      <th>Sales</th>\n",
       "    </tr>\n",
       "  </thead>\n",
       "  <tbody>\n",
       "    <tr>\n",
       "      <th>0</th>\n",
       "      <td>Portland (ME)</td>\n",
       "      <td>449758.27</td>\n",
       "    </tr>\n",
       "    <tr>\n",
       "      <th>1</th>\n",
       "      <td>Austin (TX)</td>\n",
       "      <td>1819581.75</td>\n",
       "    </tr>\n",
       "    <tr>\n",
       "      <th>2</th>\n",
       "      <td>Portland (OR)</td>\n",
       "      <td>1870732.34</td>\n",
       "    </tr>\n",
       "    <tr>\n",
       "      <th>3</th>\n",
       "      <td>Seattle (WA)</td>\n",
       "      <td>2747755.48</td>\n",
       "    </tr>\n",
       "    <tr>\n",
       "      <th>4</th>\n",
       "      <td>Dallas (TX)</td>\n",
       "      <td>2767975.40</td>\n",
       "    </tr>\n",
       "    <tr>\n",
       "      <th>5</th>\n",
       "      <td>Atlanta (GA)</td>\n",
       "      <td>2795498.58</td>\n",
       "    </tr>\n",
       "    <tr>\n",
       "      <th>6</th>\n",
       "      <td>Boston (MA)</td>\n",
       "      <td>3661642.01</td>\n",
       "    </tr>\n",
       "    <tr>\n",
       "      <th>7</th>\n",
       "      <td>New York City (NY)</td>\n",
       "      <td>4664317.43</td>\n",
       "    </tr>\n",
       "    <tr>\n",
       "      <th>8</th>\n",
       "      <td>Los Angeles (CA)</td>\n",
       "      <td>5452570.80</td>\n",
       "    </tr>\n",
       "    <tr>\n",
       "      <th>9</th>\n",
       "      <td>San Francisco (CA)</td>\n",
       "      <td>8262203.91</td>\n",
       "    </tr>\n",
       "  </tbody>\n",
       "</table>\n",
       "</div>"
      ],
      "text/plain": [
       "                 City       Sales\n",
       "0       Portland (ME)   449758.27\n",
       "1         Austin (TX)  1819581.75\n",
       "2       Portland (OR)  1870732.34\n",
       "3        Seattle (WA)  2747755.48\n",
       "4         Dallas (TX)  2767975.40\n",
       "5        Atlanta (GA)  2795498.58\n",
       "6         Boston (MA)  3661642.01\n",
       "7  New York City (NY)  4664317.43\n",
       "8    Los Angeles (CA)  5452570.80\n",
       "9  San Francisco (CA)  8262203.91"
      ]
     },
     "execution_count": 29,
     "metadata": {},
     "output_type": "execute_result"
    }
   ],
   "source": [
    "City_with_Sales = df.groupby(['City'])[['Sales']].sum().sort_values(by = 'Sales') \n",
    "City_with_Sales.reset_index(inplace = True)\n",
    "City_with_Sales            "
   ]
  },
  {
   "cell_type": "code",
   "execution_count": 30,
   "id": "4dafa201",
   "metadata": {
    "execution": {
     "iopub.execute_input": "2023-10-16T08:10:42.512223Z",
     "iopub.status.busy": "2023-10-16T08:10:42.511881Z",
     "iopub.status.idle": "2023-10-16T08:10:42.798277Z",
     "shell.execute_reply": "2023-10-16T08:10:42.797628Z"
    },
    "papermill": {
     "duration": 0.302244,
     "end_time": "2023-10-16T08:10:42.800290",
     "exception": false,
     "start_time": "2023-10-16T08:10:42.498046",
     "status": "completed"
    },
    "tags": []
   },
   "outputs": [
    {
     "data": {
      "text/plain": [
       "<Axes: ylabel='Sales'>"
      ]
     },
     "execution_count": 30,
     "metadata": {},
     "output_type": "execute_result"
    },
    {
     "data": {
      "image/png": "[encoded data removed]",
      "text/plain": [
       "<Figure size 1000x800 with 1 Axes>"
      ]
     },
     "metadata": {},
     "output_type": "display_data"
    }
   ],
   "source": [
    "plt.figure(figsize = (10,8))\n",
    "City_with_Sales['Sales'].plot(kind='pie', labels=City_with_Sales['City'], autopct='%1.1f%%')"
   ]
  },
  {
   "cell_type": "markdown",
   "id": "8673628d",
   "metadata": {
    "papermill": {
     "duration": 0.012878,
     "end_time": "2023-10-16T08:10:42.827304",
     "exception": false,
     "start_time": "2023-10-16T08:10:42.814426",
     "status": "completed"
    },
    "tags": []
   },
   "source": [
    "**San Francisco, Los Angeles, and New York are the standout cities in terms of sales performance, recording the highest sales figures. This data suggests that these urban centers are key revenue generators, likely due to their large and diverse customer bases. Businesses should pay particular attention to these markets, allocating resources and marketing efforts accordingly to maximize sales and capture the robust consumer demand in these cities.**"
   ]
  },
  {
   "cell_type": "markdown",
   "id": "984bbf9f",
   "metadata": {
    "papermill": {
     "duration": 0.012821,
     "end_time": "2023-10-16T08:10:42.853172",
     "exception": false,
     "start_time": "2023-10-16T08:10:42.840351",
     "status": "completed"
    },
    "tags": []
   },
   "source": [
    "Based on the findings from the exploratory data analysis (EDA) and the factors highlighted in the summary, here are some recommendations for businesses:\n",
    "\n",
    "1. **Seasonal Sales Strategy**:\n",
    "   - Develop a robust seasonal sales strategy that capitalizes on the peak in December and prepares for the lower sales in January. This could include special promotions, discounts, and holiday-themed marketing campaigns to attract more customers during the holiday season.\n",
    "\n",
    "2. **Product Promotion**:\n",
    "   - Given that \"USB-C Charging Cable,\" \"Lightning Charging Cable,\" and \"AAA Batteries\" are top-selling products, consider giving them more prominent placement in your marketing materials and on your website. Offering bundled deals or discounts on these items can also boost sales.\n",
    "\n",
    "3. **Marketing Timing**:\n",
    "   - Concentrate marketing efforts and customer engagement activities during the peak sales hours, which are between 12 pm and 9 pm. Utilize targeted advertisements, email campaigns, and social media promotions during this time to maximize visibility and engagement.\n",
    "\n",
    "4. **Market Focus**:\n",
    "   - Pay special attention to San Francisco, Los Angeles, and New York as key markets. Invest in localized marketing strategies, partnerships with local businesses, and tailored promotions to cater to the high consumer demand in these cities.\n",
    "\n",
    "5. **Inventory Management**:\n",
    "   - Optimize inventory management to match the seasonal demand. Stock up on popular products in preparation for the December peak and adjust inventory levels in January to minimize carrying costs.\n",
    "\n",
    "6. **Data Monitoring and Feedback**:\n",
    "   - Continuously monitor sales data and customer feedback to adapt your strategies in real-time. Stay agile and responsive to changing market conditions and consumer preferences.\n",
    "\n",
    "7. **Customer Engagement**:\n",
    "   - Enhance customer engagement by offering excellent customer service, convenient shopping experiences, and loyalty programs. Satisfied customers are more likely to make repeat purchases.\n",
    "\n",
    "8. **Competitor Analysis**:\n",
    "   - Keep an eye on competitors' strategies and pricing to ensure that your offerings remain competitive in the market.\n",
    "\n",
    "9. **Diversification**:\n",
    "   - Explore opportunities to diversify your product offerings based on customer preferences and market trends.\n",
    "\n",
    "Implementing these recommendations can help businesses make the most of their sales data insights and drive growth, particularly in terms of seasonality, product selection, and market focus."
   ]
  },
  {
   "cell_type": "code",
   "execution_count": 31,
   "id": "8b8885f0",
   "metadata": {
    "execution": {
     "iopub.execute_input": "2023-10-16T08:10:42.880891Z",
     "iopub.status.busy": "2023-10-16T08:10:42.880531Z",
     "iopub.status.idle": "2023-10-16T08:10:42.885717Z",
     "shell.execute_reply": "2023-10-16T08:10:42.884670Z"
    },
    "papermill": {
     "duration": 0.021373,
     "end_time": "2023-10-16T08:10:42.887709",
     "exception": false,
     "start_time": "2023-10-16T08:10:42.866336",
     "status": "completed"
    },
    "tags": []
   },
   "outputs": [],
   "source": [
    "sns.set_palette('flare')"
   ]
  }
 ],
 "metadata": {
  "kernelspec": {
   "display_name": "Python 3",
   "language": "python",
   "name": "python3"
  },
  "language_info": {
   "codemirror_mode": {
    "name": "ipython",
    "version": 3
   },
   "file_extension": ".py",
   "mimetype": "text/x-python",
   "name": "python",
   "nbconvert_exporter": "python",
   "pygments_lexer": "ipython3",
   "version": "3.10.12"
  },
  "papermill": {
   "default_parameters": {},
   "duration": 22.558948,
   "end_time": "2023-10-16T08:10:43.521430",
   "environment_variables": {},
   "exception": null,
   "input_path": "__notebook__.ipynb",
   "output_path": "__notebook__.ipynb",
   "parameters": {},
   "start_time": "2023-10-16T08:10:20.962482",
   "version": "2.4.0"
  }
 },
 "nbformat": 4,
 "nbformat_minor": 5
}
